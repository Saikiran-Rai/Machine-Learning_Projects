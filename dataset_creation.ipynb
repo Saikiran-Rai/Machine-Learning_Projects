{
 "cells": [
  {
   "cell_type": "markdown",
   "id": "121e4c44-9c4e-4118-8ca2-5f4d86fedc3d",
   "metadata": {},
   "source": [
    "# IMPORTING LIBRARIES"
   ]
  },
  {
   "cell_type": "code",
   "execution_count": 1,
   "id": "ce29a6ec-ca28-460d-844c-7a52ba2da52a",
   "metadata": {},
   "outputs": [],
   "source": [
    "import pandas as pd\n",
    "import numpy as np"
   ]
  },
  {
   "cell_type": "markdown",
   "id": "00ae3e35-5b0f-4617-991b-e72da8ad1a6c",
   "metadata": {},
   "source": [
    "# DECLARING NEEDED INFRASTRUCTURE FOR A VILLAGE TO BE DEVELOPED\n",
    "1. Library\n",
    "2. Primary_school\n",
    "3. Secondary_school\n",
    "4. College\n",
    "5. ATM\n",
    "6. Supermarket\n",
    "7. Panchayat_office\n",
    "8. Post_office\n",
    "9. Hospital\n",
    "10. Bus_stop\n",
    "11. Common_service_center"
   ]
  },
  {
   "cell_type": "markdown",
   "id": "90e77ddb-39a3-4bcc-81dd-8b3ad676196c",
   "metadata": {},
   "source": [
    "# CREATING DATASET WITH THE NEEDED INFRASTRUCTURE"
   ]
  },
  {
   "cell_type": "code",
   "execution_count": 2,
   "id": "f10a3537-c28e-47eb-9862-24762545ec96",
   "metadata": {},
   "outputs": [
    {
     "name": "stdout",
     "output_type": "stream",
     "text": [
      "(20000, 11)\n"
     ]
    },
    {
     "data": {
      "text/html": [
       "<div>\n",
       "<style scoped>\n",
       "    .dataframe tbody tr th:only-of-type {\n",
       "        vertical-align: middle;\n",
       "    }\n",
       "\n",
       "    .dataframe tbody tr th {\n",
       "        vertical-align: top;\n",
       "    }\n",
       "\n",
       "    .dataframe thead th {\n",
       "        text-align: right;\n",
       "    }\n",
       "</style>\n",
       "<table border=\"1\" class=\"dataframe\">\n",
       "  <thead>\n",
       "    <tr style=\"text-align: right;\">\n",
       "      <th></th>\n",
       "      <th>library</th>\n",
       "      <th>primary_school</th>\n",
       "      <th>secondary_school</th>\n",
       "      <th>college</th>\n",
       "      <th>atm</th>\n",
       "      <th>supermarket</th>\n",
       "      <th>panchayat_office</th>\n",
       "      <th>post_office</th>\n",
       "      <th>hospital</th>\n",
       "      <th>bus_stop</th>\n",
       "      <th>common_service_center</th>\n",
       "    </tr>\n",
       "  </thead>\n",
       "  <tbody>\n",
       "    <tr>\n",
       "      <th>0</th>\n",
       "      <td>0</td>\n",
       "      <td>0</td>\n",
       "      <td>1</td>\n",
       "      <td>0</td>\n",
       "      <td>0</td>\n",
       "      <td>0</td>\n",
       "      <td>0</td>\n",
       "      <td>1</td>\n",
       "      <td>0</td>\n",
       "      <td>1</td>\n",
       "      <td>0</td>\n",
       "    </tr>\n",
       "    <tr>\n",
       "      <th>1</th>\n",
       "      <td>0</td>\n",
       "      <td>0</td>\n",
       "      <td>0</td>\n",
       "      <td>0</td>\n",
       "      <td>0</td>\n",
       "      <td>0</td>\n",
       "      <td>0</td>\n",
       "      <td>1</td>\n",
       "      <td>0</td>\n",
       "      <td>0</td>\n",
       "      <td>0</td>\n",
       "    </tr>\n",
       "    <tr>\n",
       "      <th>2</th>\n",
       "      <td>0</td>\n",
       "      <td>1</td>\n",
       "      <td>1</td>\n",
       "      <td>1</td>\n",
       "      <td>0</td>\n",
       "      <td>0</td>\n",
       "      <td>0</td>\n",
       "      <td>0</td>\n",
       "      <td>0</td>\n",
       "      <td>0</td>\n",
       "      <td>1</td>\n",
       "    </tr>\n",
       "    <tr>\n",
       "      <th>3</th>\n",
       "      <td>0</td>\n",
       "      <td>1</td>\n",
       "      <td>0</td>\n",
       "      <td>1</td>\n",
       "      <td>1</td>\n",
       "      <td>0</td>\n",
       "      <td>0</td>\n",
       "      <td>1</td>\n",
       "      <td>0</td>\n",
       "      <td>1</td>\n",
       "      <td>0</td>\n",
       "    </tr>\n",
       "    <tr>\n",
       "      <th>4</th>\n",
       "      <td>0</td>\n",
       "      <td>0</td>\n",
       "      <td>1</td>\n",
       "      <td>0</td>\n",
       "      <td>1</td>\n",
       "      <td>0</td>\n",
       "      <td>0</td>\n",
       "      <td>1</td>\n",
       "      <td>0</td>\n",
       "      <td>0</td>\n",
       "      <td>0</td>\n",
       "    </tr>\n",
       "  </tbody>\n",
       "</table>\n",
       "</div>"
      ],
      "text/plain": [
       "   library  primary_school  secondary_school  college  atm  supermarket  \\\n",
       "0        0               0                 1        0    0            0   \n",
       "1        0               0                 0        0    0            0   \n",
       "2        0               1                 1        1    0            0   \n",
       "3        0               1                 0        1    1            0   \n",
       "4        0               0                 1        0    1            0   \n",
       "\n",
       "   panchayat_office  post_office  hospital  bus_stop  common_service_center  \n",
       "0                 0            1         0         1                      0  \n",
       "1                 0            1         0         0                      0  \n",
       "2                 0            0         0         0                      1  \n",
       "3                 0            1         0         1                      0  \n",
       "4                 0            1         0         0                      0  "
      ]
     },
     "execution_count": 2,
     "metadata": {},
     "output_type": "execute_result"
    }
   ],
   "source": [
    "dataset= pd.DataFrame({\n",
    "    'library': np.random.randint(0,2,20000),\n",
    "    'primary_school':np.random.randint(0,2,20000),\n",
    "    'secondary_school':np.random.randint(0,2,20000),\n",
    "    'college':np.random.randint(0,2,20000),\n",
    "    'atm':np.random.randint(0,2,20000),\n",
    "    'supermarket':np.random.randint(0,2,20000),\n",
    "    'panchayat_office':np.random.randint(0,2,20000),\n",
    "    'post_office':np.random.randint(0,2,20000),\n",
    "    'hospital':np.random.randint(0,2,20000),\n",
    "    'bus_stop':np.random.randint(0,2,20000),\n",
    "    'common_service_center':np.random.randint(0,2,20000),\n",
    "})\n",
    "print(dataset.shape)\n",
    "dataset.head()"
   ]
  },
  {
   "cell_type": "markdown",
   "id": "a83f9c68-7e15-4d60-a5fb-2d44a7bca745",
   "metadata": {},
   "source": [
    "# GETTING 30% OF SAMPLE DATA RANDOMLY"
   ]
  },
  {
   "cell_type": "code",
   "execution_count": 6,
   "id": "9d39cbd5-2f45-4e9b-97bd-f8d1ad73c593",
   "metadata": {},
   "outputs": [],
   "source": [
    "rows= dataset.sample(n=6000,random_state=42).index"
   ]
  },
  {
   "cell_type": "code",
   "execution_count": 7,
   "id": "9fb5ba91-277f-4620-aa93-a60bc97ea244",
   "metadata": {},
   "outputs": [],
   "source": [
    "dataset.loc[rows]= 1"
   ]
  },
  {
   "cell_type": "code",
   "execution_count": 8,
   "id": "cf309323-b12c-427c-ba76-e40fe15ce594",
   "metadata": {},
   "outputs": [],
   "source": [
    "mask= (dataset==1).all(axis=1)"
   ]
  },
  {
   "cell_type": "code",
   "execution_count": 9,
   "id": "dfd8c518-ea44-4ac1-876c-9e0cef16f47c",
   "metadata": {},
   "outputs": [
    {
     "data": {
      "text/plain": [
       "(6003, 11)"
      ]
     },
     "execution_count": 9,
     "metadata": {},
     "output_type": "execute_result"
    }
   ],
   "source": [
    "allones= dataset[mask]\n",
    "allones.shape"
   ]
  },
  {
   "cell_type": "markdown",
   "id": "48b83bee-4118-4df7-bc79-422941f3348a",
   "metadata": {},
   "source": [
    "# ADDING TARGET VARIABLE COLUMN TO THE DATASET"
   ]
  },
  {
   "cell_type": "code",
   "execution_count": 10,
   "id": "ec8972aa-7c7a-41ac-b004-7f7a953eec12",
   "metadata": {},
   "outputs": [],
   "source": [
    "dataset['developed']= (dataset==1).all(axis=1).astype(int)"
   ]
  },
  {
   "cell_type": "code",
   "execution_count": 11,
   "id": "c4c15515-cb88-4982-97a7-f59ae9f418ed",
   "metadata": {},
   "outputs": [
    {
     "data": {
      "text/html": [
       "<div>\n",
       "<style scoped>\n",
       "    .dataframe tbody tr th:only-of-type {\n",
       "        vertical-align: middle;\n",
       "    }\n",
       "\n",
       "    .dataframe tbody tr th {\n",
       "        vertical-align: top;\n",
       "    }\n",
       "\n",
       "    .dataframe thead th {\n",
       "        text-align: right;\n",
       "    }\n",
       "</style>\n",
       "<table border=\"1\" class=\"dataframe\">\n",
       "  <thead>\n",
       "    <tr style=\"text-align: right;\">\n",
       "      <th></th>\n",
       "      <th>library</th>\n",
       "      <th>primary_school</th>\n",
       "      <th>secondary_school</th>\n",
       "      <th>college</th>\n",
       "      <th>atm</th>\n",
       "      <th>supermarket</th>\n",
       "      <th>panchayat_office</th>\n",
       "      <th>post_office</th>\n",
       "      <th>hospital</th>\n",
       "      <th>bus_stop</th>\n",
       "      <th>common_service_center</th>\n",
       "      <th>developed</th>\n",
       "    </tr>\n",
       "  </thead>\n",
       "  <tbody>\n",
       "    <tr>\n",
       "      <th>0</th>\n",
       "      <td>1</td>\n",
       "      <td>1</td>\n",
       "      <td>1</td>\n",
       "      <td>1</td>\n",
       "      <td>1</td>\n",
       "      <td>1</td>\n",
       "      <td>1</td>\n",
       "      <td>1</td>\n",
       "      <td>1</td>\n",
       "      <td>1</td>\n",
       "      <td>1</td>\n",
       "      <td>1</td>\n",
       "    </tr>\n",
       "    <tr>\n",
       "      <th>1</th>\n",
       "      <td>0</td>\n",
       "      <td>0</td>\n",
       "      <td>0</td>\n",
       "      <td>0</td>\n",
       "      <td>0</td>\n",
       "      <td>0</td>\n",
       "      <td>0</td>\n",
       "      <td>1</td>\n",
       "      <td>0</td>\n",
       "      <td>0</td>\n",
       "      <td>0</td>\n",
       "      <td>0</td>\n",
       "    </tr>\n",
       "    <tr>\n",
       "      <th>2</th>\n",
       "      <td>0</td>\n",
       "      <td>1</td>\n",
       "      <td>1</td>\n",
       "      <td>1</td>\n",
       "      <td>0</td>\n",
       "      <td>0</td>\n",
       "      <td>0</td>\n",
       "      <td>0</td>\n",
       "      <td>0</td>\n",
       "      <td>0</td>\n",
       "      <td>1</td>\n",
       "      <td>0</td>\n",
       "    </tr>\n",
       "    <tr>\n",
       "      <th>3</th>\n",
       "      <td>1</td>\n",
       "      <td>1</td>\n",
       "      <td>1</td>\n",
       "      <td>1</td>\n",
       "      <td>1</td>\n",
       "      <td>1</td>\n",
       "      <td>1</td>\n",
       "      <td>1</td>\n",
       "      <td>1</td>\n",
       "      <td>1</td>\n",
       "      <td>1</td>\n",
       "      <td>1</td>\n",
       "    </tr>\n",
       "    <tr>\n",
       "      <th>4</th>\n",
       "      <td>0</td>\n",
       "      <td>0</td>\n",
       "      <td>1</td>\n",
       "      <td>0</td>\n",
       "      <td>1</td>\n",
       "      <td>0</td>\n",
       "      <td>0</td>\n",
       "      <td>1</td>\n",
       "      <td>0</td>\n",
       "      <td>0</td>\n",
       "      <td>0</td>\n",
       "      <td>0</td>\n",
       "    </tr>\n",
       "  </tbody>\n",
       "</table>\n",
       "</div>"
      ],
      "text/plain": [
       "   library  primary_school  secondary_school  college  atm  supermarket  \\\n",
       "0        1               1                 1        1    1            1   \n",
       "1        0               0                 0        0    0            0   \n",
       "2        0               1                 1        1    0            0   \n",
       "3        1               1                 1        1    1            1   \n",
       "4        0               0                 1        0    1            0   \n",
       "\n",
       "   panchayat_office  post_office  hospital  bus_stop  common_service_center  \\\n",
       "0                 1            1         1         1                      1   \n",
       "1                 0            1         0         0                      0   \n",
       "2                 0            0         0         0                      1   \n",
       "3                 1            1         1         1                      1   \n",
       "4                 0            1         0         0                      0   \n",
       "\n",
       "   developed  \n",
       "0          1  \n",
       "1          0  \n",
       "2          0  \n",
       "3          1  \n",
       "4          0  "
      ]
     },
     "execution_count": 11,
     "metadata": {},
     "output_type": "execute_result"
    }
   ],
   "source": [
    "dataset.head()"
   ]
  },
  {
   "cell_type": "markdown",
   "id": "fc47792f-884e-42db-87fe-4f886cf31875",
   "metadata": {},
   "source": [
    "# SAVING DATASET AS CSV FILE"
   ]
  },
  {
   "cell_type": "code",
   "execution_count": 12,
   "id": "671ab816-631c-46ce-b4c3-5ab4ce5344e3",
   "metadata": {},
   "outputs": [],
   "source": [
    "dataset.to_csv('Village_infras.csv',index= False)"
   ]
  },
  {
   "cell_type": "code",
   "execution_count": null,
   "id": "39df2c6a-6bb5-4274-b66c-a9155f3ab6d3",
   "metadata": {},
   "outputs": [],
   "source": []
  }
 ],
 "metadata": {
  "kernelspec": {
   "display_name": "Python 3 (ipykernel)",
   "language": "python",
   "name": "python3"
  },
  "language_info": {
   "codemirror_mode": {
    "name": "ipython",
    "version": 3
   },
   "file_extension": ".py",
   "mimetype": "text/x-python",
   "name": "python",
   "nbconvert_exporter": "python",
   "pygments_lexer": "ipython3",
   "version": "3.10.7"
  }
 },
 "nbformat": 4,
 "nbformat_minor": 5
}
