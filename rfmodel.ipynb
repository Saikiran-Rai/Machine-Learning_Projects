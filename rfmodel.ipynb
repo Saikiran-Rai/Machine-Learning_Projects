{
 "cells": [
  {
   "cell_type": "markdown",
   "id": "a83d98c5-3396-48f5-8a1f-99e9c00b5410",
   "metadata": {},
   "source": [
    "# IMPORTING LIBRARIES"
   ]
  },
  {
   "cell_type": "code",
   "execution_count": 1,
   "id": "a7d23ac1-dd09-4846-b3bd-9fee3fdfbd14",
   "metadata": {},
   "outputs": [],
   "source": [
    "import pandas as pd\n",
    "from sklearn.model_selection import train_test_split\n",
    "from sklearn.ensemble import RandomForestRegressor\n",
    "from sklearn.metrics import mean_absolute_error, r2_score\n",
    "import pickle"
   ]
  },
  {
   "cell_type": "markdown",
   "id": "b0538b87-8b6e-429b-9091-8a75fa6f82f0",
   "metadata": {},
   "source": [
    "# GETTING DATA FROM DATASET"
   ]
  },
  {
   "cell_type": "code",
   "execution_count": 2,
   "id": "6f05c601-072d-49b4-a357-5cec05945568",
   "metadata": {},
   "outputs": [
    {
     "data": {
      "text/html": [
       "<div>\n",
       "<style scoped>\n",
       "    .dataframe tbody tr th:only-of-type {\n",
       "        vertical-align: middle;\n",
       "    }\n",
       "\n",
       "    .dataframe tbody tr th {\n",
       "        vertical-align: top;\n",
       "    }\n",
       "\n",
       "    .dataframe thead th {\n",
       "        text-align: right;\n",
       "    }\n",
       "</style>\n",
       "<table border=\"1\" class=\"dataframe\">\n",
       "  <thead>\n",
       "    <tr style=\"text-align: right;\">\n",
       "      <th></th>\n",
       "      <th>library</th>\n",
       "      <th>primary_school</th>\n",
       "      <th>secondary_school</th>\n",
       "      <th>college</th>\n",
       "      <th>atm</th>\n",
       "      <th>supermarket</th>\n",
       "      <th>panchayat_office</th>\n",
       "      <th>post_office</th>\n",
       "      <th>hospital</th>\n",
       "      <th>bus_stop</th>\n",
       "      <th>common_service_center</th>\n",
       "      <th>developed</th>\n",
       "    </tr>\n",
       "  </thead>\n",
       "  <tbody>\n",
       "    <tr>\n",
       "      <th>0</th>\n",
       "      <td>1</td>\n",
       "      <td>1</td>\n",
       "      <td>1</td>\n",
       "      <td>1</td>\n",
       "      <td>1</td>\n",
       "      <td>1</td>\n",
       "      <td>1</td>\n",
       "      <td>1</td>\n",
       "      <td>1</td>\n",
       "      <td>1</td>\n",
       "      <td>1</td>\n",
       "      <td>1</td>\n",
       "    </tr>\n",
       "    <tr>\n",
       "      <th>1</th>\n",
       "      <td>0</td>\n",
       "      <td>0</td>\n",
       "      <td>0</td>\n",
       "      <td>0</td>\n",
       "      <td>0</td>\n",
       "      <td>0</td>\n",
       "      <td>0</td>\n",
       "      <td>1</td>\n",
       "      <td>0</td>\n",
       "      <td>0</td>\n",
       "      <td>0</td>\n",
       "      <td>0</td>\n",
       "    </tr>\n",
       "    <tr>\n",
       "      <th>2</th>\n",
       "      <td>0</td>\n",
       "      <td>1</td>\n",
       "      <td>1</td>\n",
       "      <td>1</td>\n",
       "      <td>0</td>\n",
       "      <td>0</td>\n",
       "      <td>0</td>\n",
       "      <td>0</td>\n",
       "      <td>0</td>\n",
       "      <td>0</td>\n",
       "      <td>1</td>\n",
       "      <td>0</td>\n",
       "    </tr>\n",
       "    <tr>\n",
       "      <th>3</th>\n",
       "      <td>1</td>\n",
       "      <td>1</td>\n",
       "      <td>1</td>\n",
       "      <td>1</td>\n",
       "      <td>1</td>\n",
       "      <td>1</td>\n",
       "      <td>1</td>\n",
       "      <td>1</td>\n",
       "      <td>1</td>\n",
       "      <td>1</td>\n",
       "      <td>1</td>\n",
       "      <td>1</td>\n",
       "    </tr>\n",
       "    <tr>\n",
       "      <th>4</th>\n",
       "      <td>0</td>\n",
       "      <td>0</td>\n",
       "      <td>1</td>\n",
       "      <td>0</td>\n",
       "      <td>1</td>\n",
       "      <td>0</td>\n",
       "      <td>0</td>\n",
       "      <td>1</td>\n",
       "      <td>0</td>\n",
       "      <td>0</td>\n",
       "      <td>0</td>\n",
       "      <td>0</td>\n",
       "    </tr>\n",
       "  </tbody>\n",
       "</table>\n",
       "</div>"
      ],
      "text/plain": [
       "   library  primary_school  secondary_school  college  atm  supermarket  \\\n",
       "0        1               1                 1        1    1            1   \n",
       "1        0               0                 0        0    0            0   \n",
       "2        0               1                 1        1    0            0   \n",
       "3        1               1                 1        1    1            1   \n",
       "4        0               0                 1        0    1            0   \n",
       "\n",
       "   panchayat_office  post_office  hospital  bus_stop  common_service_center  \\\n",
       "0                 1            1         1         1                      1   \n",
       "1                 0            1         0         0                      0   \n",
       "2                 0            0         0         0                      1   \n",
       "3                 1            1         1         1                      1   \n",
       "4                 0            1         0         0                      0   \n",
       "\n",
       "   developed  \n",
       "0          1  \n",
       "1          0  \n",
       "2          0  \n",
       "3          1  \n",
       "4          0  "
      ]
     },
     "execution_count": 2,
     "metadata": {},
     "output_type": "execute_result"
    }
   ],
   "source": [
    "data = pd.read_csv(\"Village_infras.csv\")\n",
    "data.head()"
   ]
  },
  {
   "cell_type": "markdown",
   "id": "7bf423a2-4b1c-41a8-a0f4-313f37781f63",
   "metadata": {},
   "source": [
    "# SELECTING TARGET VARIABLE"
   ]
  },
  {
   "cell_type": "code",
   "execution_count": 3,
   "id": "3da6fd61-cb43-480f-8530-acfefb99693a",
   "metadata": {},
   "outputs": [],
   "source": [
    "y = data.developed\n",
    "X = data.drop(['developed'], axis= 1)"
   ]
  },
  {
   "cell_type": "markdown",
   "id": "46b77314-f0c6-4a8a-a83c-7ab0f8c3533f",
   "metadata": {},
   "source": [
    "# SPLITTING TRAINING AND VALIDATION DATA"
   ]
  },
  {
   "cell_type": "code",
   "execution_count": 4,
   "id": "0fcc01f6-fd7c-467b-94fa-e8e037b12b94",
   "metadata": {},
   "outputs": [],
   "source": [
    "X_train, X_valid, y_train, y_valid = train_test_split(X, y, train_size=0.8, test_size= 0.2, random_state= 0)"
   ]
  },
  {
   "cell_type": "code",
   "execution_count": 5,
   "id": "72d10832-92aa-44e0-a8fe-3e62fb97cc41",
   "metadata": {},
   "outputs": [
    {
     "data": {
      "text/html": [
       "<div>\n",
       "<style scoped>\n",
       "    .dataframe tbody tr th:only-of-type {\n",
       "        vertical-align: middle;\n",
       "    }\n",
       "\n",
       "    .dataframe tbody tr th {\n",
       "        vertical-align: top;\n",
       "    }\n",
       "\n",
       "    .dataframe thead th {\n",
       "        text-align: right;\n",
       "    }\n",
       "</style>\n",
       "<table border=\"1\" class=\"dataframe\">\n",
       "  <thead>\n",
       "    <tr style=\"text-align: right;\">\n",
       "      <th></th>\n",
       "      <th>library</th>\n",
       "      <th>primary_school</th>\n",
       "      <th>secondary_school</th>\n",
       "      <th>college</th>\n",
       "      <th>atm</th>\n",
       "      <th>supermarket</th>\n",
       "      <th>panchayat_office</th>\n",
       "      <th>post_office</th>\n",
       "      <th>hospital</th>\n",
       "      <th>bus_stop</th>\n",
       "      <th>common_service_center</th>\n",
       "    </tr>\n",
       "  </thead>\n",
       "  <tbody>\n",
       "    <tr>\n",
       "      <th>17815</th>\n",
       "      <td>1</td>\n",
       "      <td>1</td>\n",
       "      <td>1</td>\n",
       "      <td>1</td>\n",
       "      <td>1</td>\n",
       "      <td>1</td>\n",
       "      <td>1</td>\n",
       "      <td>1</td>\n",
       "      <td>1</td>\n",
       "      <td>1</td>\n",
       "      <td>1</td>\n",
       "    </tr>\n",
       "    <tr>\n",
       "      <th>18370</th>\n",
       "      <td>1</td>\n",
       "      <td>1</td>\n",
       "      <td>1</td>\n",
       "      <td>0</td>\n",
       "      <td>1</td>\n",
       "      <td>1</td>\n",
       "      <td>0</td>\n",
       "      <td>1</td>\n",
       "      <td>0</td>\n",
       "      <td>0</td>\n",
       "      <td>1</td>\n",
       "    </tr>\n",
       "    <tr>\n",
       "      <th>1379</th>\n",
       "      <td>0</td>\n",
       "      <td>0</td>\n",
       "      <td>1</td>\n",
       "      <td>1</td>\n",
       "      <td>0</td>\n",
       "      <td>0</td>\n",
       "      <td>1</td>\n",
       "      <td>0</td>\n",
       "      <td>1</td>\n",
       "      <td>0</td>\n",
       "      <td>1</td>\n",
       "    </tr>\n",
       "    <tr>\n",
       "      <th>14763</th>\n",
       "      <td>1</td>\n",
       "      <td>1</td>\n",
       "      <td>1</td>\n",
       "      <td>1</td>\n",
       "      <td>1</td>\n",
       "      <td>0</td>\n",
       "      <td>1</td>\n",
       "      <td>0</td>\n",
       "      <td>0</td>\n",
       "      <td>1</td>\n",
       "      <td>0</td>\n",
       "    </tr>\n",
       "    <tr>\n",
       "      <th>7346</th>\n",
       "      <td>1</td>\n",
       "      <td>1</td>\n",
       "      <td>1</td>\n",
       "      <td>1</td>\n",
       "      <td>1</td>\n",
       "      <td>1</td>\n",
       "      <td>1</td>\n",
       "      <td>1</td>\n",
       "      <td>1</td>\n",
       "      <td>1</td>\n",
       "      <td>1</td>\n",
       "    </tr>\n",
       "  </tbody>\n",
       "</table>\n",
       "</div>"
      ],
      "text/plain": [
       "       library  primary_school  secondary_school  college  atm  supermarket  \\\n",
       "17815        1               1                 1        1    1            1   \n",
       "18370        1               1                 1        0    1            1   \n",
       "1379         0               0                 1        1    0            0   \n",
       "14763        1               1                 1        1    1            0   \n",
       "7346         1               1                 1        1    1            1   \n",
       "\n",
       "       panchayat_office  post_office  hospital  bus_stop  \\\n",
       "17815                 1            1         1         1   \n",
       "18370                 0            1         0         0   \n",
       "1379                  1            0         1         0   \n",
       "14763                 1            0         0         1   \n",
       "7346                  1            1         1         1   \n",
       "\n",
       "       common_service_center  \n",
       "17815                      1  \n",
       "18370                      1  \n",
       "1379                       1  \n",
       "14763                      0  \n",
       "7346                       1  "
      ]
     },
     "execution_count": 5,
     "metadata": {},
     "output_type": "execute_result"
    }
   ],
   "source": [
    "X_train.head()"
   ]
  },
  {
   "cell_type": "code",
   "execution_count": 6,
   "id": "4d979457-d013-4ed5-bd30-300b259ee1f0",
   "metadata": {},
   "outputs": [
    {
     "data": {
      "text/html": [
       "<div>\n",
       "<style scoped>\n",
       "    .dataframe tbody tr th:only-of-type {\n",
       "        vertical-align: middle;\n",
       "    }\n",
       "\n",
       "    .dataframe tbody tr th {\n",
       "        vertical-align: top;\n",
       "    }\n",
       "\n",
       "    .dataframe thead th {\n",
       "        text-align: right;\n",
       "    }\n",
       "</style>\n",
       "<table border=\"1\" class=\"dataframe\">\n",
       "  <thead>\n",
       "    <tr style=\"text-align: right;\">\n",
       "      <th></th>\n",
       "      <th>library</th>\n",
       "      <th>primary_school</th>\n",
       "      <th>secondary_school</th>\n",
       "      <th>college</th>\n",
       "      <th>atm</th>\n",
       "      <th>supermarket</th>\n",
       "      <th>panchayat_office</th>\n",
       "      <th>post_office</th>\n",
       "      <th>hospital</th>\n",
       "      <th>bus_stop</th>\n",
       "      <th>common_service_center</th>\n",
       "    </tr>\n",
       "  </thead>\n",
       "  <tbody>\n",
       "    <tr>\n",
       "      <th>19134</th>\n",
       "      <td>1</td>\n",
       "      <td>1</td>\n",
       "      <td>1</td>\n",
       "      <td>1</td>\n",
       "      <td>1</td>\n",
       "      <td>1</td>\n",
       "      <td>1</td>\n",
       "      <td>1</td>\n",
       "      <td>1</td>\n",
       "      <td>1</td>\n",
       "      <td>1</td>\n",
       "    </tr>\n",
       "    <tr>\n",
       "      <th>4981</th>\n",
       "      <td>1</td>\n",
       "      <td>1</td>\n",
       "      <td>1</td>\n",
       "      <td>1</td>\n",
       "      <td>1</td>\n",
       "      <td>1</td>\n",
       "      <td>1</td>\n",
       "      <td>1</td>\n",
       "      <td>1</td>\n",
       "      <td>1</td>\n",
       "      <td>1</td>\n",
       "    </tr>\n",
       "    <tr>\n",
       "      <th>16643</th>\n",
       "      <td>1</td>\n",
       "      <td>0</td>\n",
       "      <td>0</td>\n",
       "      <td>0</td>\n",
       "      <td>0</td>\n",
       "      <td>1</td>\n",
       "      <td>1</td>\n",
       "      <td>0</td>\n",
       "      <td>0</td>\n",
       "      <td>0</td>\n",
       "      <td>0</td>\n",
       "    </tr>\n",
       "    <tr>\n",
       "      <th>19117</th>\n",
       "      <td>1</td>\n",
       "      <td>0</td>\n",
       "      <td>1</td>\n",
       "      <td>1</td>\n",
       "      <td>0</td>\n",
       "      <td>1</td>\n",
       "      <td>0</td>\n",
       "      <td>0</td>\n",
       "      <td>1</td>\n",
       "      <td>1</td>\n",
       "      <td>0</td>\n",
       "    </tr>\n",
       "    <tr>\n",
       "      <th>5306</th>\n",
       "      <td>1</td>\n",
       "      <td>1</td>\n",
       "      <td>1</td>\n",
       "      <td>1</td>\n",
       "      <td>1</td>\n",
       "      <td>1</td>\n",
       "      <td>1</td>\n",
       "      <td>1</td>\n",
       "      <td>1</td>\n",
       "      <td>1</td>\n",
       "      <td>1</td>\n",
       "    </tr>\n",
       "  </tbody>\n",
       "</table>\n",
       "</div>"
      ],
      "text/plain": [
       "       library  primary_school  secondary_school  college  atm  supermarket  \\\n",
       "19134        1               1                 1        1    1            1   \n",
       "4981         1               1                 1        1    1            1   \n",
       "16643        1               0                 0        0    0            1   \n",
       "19117        1               0                 1        1    0            1   \n",
       "5306         1               1                 1        1    1            1   \n",
       "\n",
       "       panchayat_office  post_office  hospital  bus_stop  \\\n",
       "19134                 1            1         1         1   \n",
       "4981                  1            1         1         1   \n",
       "16643                 1            0         0         0   \n",
       "19117                 0            0         1         1   \n",
       "5306                  1            1         1         1   \n",
       "\n",
       "       common_service_center  \n",
       "19134                      1  \n",
       "4981                       1  \n",
       "16643                      0  \n",
       "19117                      0  \n",
       "5306                       1  "
      ]
     },
     "execution_count": 6,
     "metadata": {},
     "output_type": "execute_result"
    }
   ],
   "source": [
    "X_valid.head()"
   ]
  },
  {
   "cell_type": "markdown",
   "id": "f4e0ca39-2958-47fe-9978-adef8703401f",
   "metadata": {},
   "source": [
    "# DEFINING, FITTING AND PREDICTING RANDOM FOREST MODEL"
   ]
  },
  {
   "cell_type": "code",
   "execution_count": 7,
   "id": "e3940c8b-d293-470a-86aa-4afa1c23a536",
   "metadata": {},
   "outputs": [
    {
     "data": {
      "text/plain": [
       "array([1., 1., 0., ..., 1., 1., 0.])"
      ]
     },
     "execution_count": 7,
     "metadata": {},
     "output_type": "execute_result"
    }
   ],
   "source": [
    "rfmodel= RandomForestRegressor(n_estimators= 100, random_state= 0)\n",
    "rfmodel.fit(X_train, y_train)\n",
    "rfpreds= rfmodel.predict(X_valid)\n",
    "rfpreds"
   ]
  },
  {
   "cell_type": "markdown",
   "id": "3a861d22-7704-421a-bb8c-ed7620fbac94",
   "metadata": {},
   "source": [
    "# CHECKING METRICS LIKE R2-SCORE AND MEAN ABSOLUTE ERROR"
   ]
  },
  {
   "cell_type": "code",
   "execution_count": 8,
   "id": "66c1f8b4-faf5-48f7-8f7b-32fecbcaa5ac",
   "metadata": {},
   "outputs": [
    {
     "name": "stdout",
     "output_type": "stream",
     "text": [
      "MAE: 2.5e-06\n",
      "R2_score: 0.9999998837376937\n"
     ]
    }
   ],
   "source": [
    "rfscore= mean_absolute_error(y_valid, rfpreds)\n",
    "r2= r2_score(y_valid, rfpreds)\n",
    "print('MAE:', rfscore)\n",
    "print('R2_score:', r2)"
   ]
  },
  {
   "cell_type": "markdown",
   "id": "0d745048-aabc-4b6d-9fcc-a22364e124d7",
   "metadata": {},
   "source": [
    "# SAVING THE TRAINED MODEL"
   ]
  },
  {
   "cell_type": "code",
   "execution_count": 9,
   "id": "3cdea495-9d8e-4664-a9c5-795b69aebfbf",
   "metadata": {},
   "outputs": [
    {
     "name": "stdout",
     "output_type": "stream",
     "text": [
      "Trained model saved to rftrained_model.pkl\n"
     ]
    }
   ],
   "source": [
    "with open('rftrained_model.pkl', 'wb') as f:\n",
    "    pickle.dump(rfmodel, f)\n",
    "\n",
    "print(\"Trained model saved to rftrained_model.pkl\")"
   ]
  },
  {
   "cell_type": "code",
   "execution_count": null,
   "id": "7ff676df-163a-4b8a-be22-991b5974f04c",
   "metadata": {},
   "outputs": [],
   "source": []
  }
 ],
 "metadata": {
  "kernelspec": {
   "display_name": "Python 3 (ipykernel)",
   "language": "python",
   "name": "python3"
  },
  "language_info": {
   "codemirror_mode": {
    "name": "ipython",
    "version": 3
   },
   "file_extension": ".py",
   "mimetype": "text/x-python",
   "name": "python",
   "nbconvert_exporter": "python",
   "pygments_lexer": "ipython3",
   "version": "3.10.7"
  }
 },
 "nbformat": 4,
 "nbformat_minor": 5
}
