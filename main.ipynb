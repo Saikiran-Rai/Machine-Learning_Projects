{
 "cells": [
  {
   "cell_type": "markdown",
   "id": "6b38cdbf-d441-447e-b920-5f0ddd456666",
   "metadata": {},
   "source": [
    "# IMPORTING LIBRARIES"
   ]
  },
  {
   "cell_type": "code",
   "execution_count": 1,
   "id": "f0dc2bb0-93db-4273-a0ac-d8a3126a4676",
   "metadata": {},
   "outputs": [],
   "source": [
    "import googlemaps\n",
    "import pandas as pd\n",
    "import pickle\n",
    "from geopy.geocoders import Nominatim"
   ]
  },
  {
   "cell_type": "markdown",
   "id": "ea25a62b-3d93-43f6-95f6-acfb02dd9dc7",
   "metadata": {},
   "source": [
    "# FUNTION FOR GETTING VILLAGE COORDINATES"
   ]
  },
  {
   "cell_type": "code",
   "execution_count": 3,
   "id": "062ebcc6-96b8-48f9-98d6-8ea84bdd3de8",
   "metadata": {},
   "outputs": [],
   "source": [
    "def get_village_coordinates(village_name, state_name):\n",
    "    \n",
    "    try:\n",
    "        # Initialize the geolocator with a custom user agent\n",
    "        geolocator = Nominatim(user_agent=\"village_locator\")\n",
    "        # Use the geolocator to find the location based on the village and state name\n",
    "        location = geolocator.geocode(f\"{village_name}, {state_name}, India\") \n",
    "        if location:\n",
    "            return location.latitude, location.longitude\n",
    "        else:\n",
    "            return None \n",
    "    except Exception as e:\n",
    "        print(f\"An error occurred: {e}\")\n",
    "        return None"
   ]
  },
  {
   "cell_type": "markdown",
   "id": "9fa18d94-a2cd-4fe9-9bc5-6a033fea59ca",
   "metadata": {},
   "source": [
    "# FUNCTION FOR GETTING VILLAGE INFRASTRUCTURE DETAILS"
   ]
  },
  {
   "cell_type": "code",
   "execution_count": 5,
   "id": "cce97c9b-2b7a-4097-8e0e-e8cb569eadd7",
   "metadata": {},
   "outputs": [],
   "source": [
    "def get_village_infrastructure_details(coordinates, api_key):\n",
    "    \n",
    "    # Initialize Google Maps client\n",
    "    gmaps = googlemaps.Client(key=api_key)\n",
    "    \n",
    "    # Extract latitude and longitude\n",
    "    latitude = coordinates[0]\n",
    "    longitude = coordinates[1]\n",
    "    \n",
    "    # Define needed infrastructure and their respective keywords\n",
    "    needed_infrastructure = ['library', 'primary_school', 'secondary_school', 'college', 'atm', 'supermarket', \n",
    "                              'panchayat_office', 'post_office', 'hospital', 'bus_stop', 'common_service_center']\n",
    "    \n",
    "    infrastructure_keywords = {\n",
    "        'primary_school': 'elementary school|mpp|government primary|state board school|cbse school|mandal parishad|govt primary',\n",
    "        'secondary_school': 'middle school|zph|government high|high school|state board school|zp high|zilla parishad|cbse school|govt high',\n",
    "        'college': 'junior college|government junior|jr college|govt jr|govt junior',\n",
    "        'supermarket': 'supermarket|super market|grocery store|hyper store',\n",
    "        'panchayat_office': 'panchayat|sachivalayam',\n",
    "        'post_office': 'post',\n",
    "        'common_service_center': 'csc|common'\n",
    "    }\n",
    "    \n",
    "    # Initialize the results dictionary\n",
    "    infras_results = {}\n",
    "    \n",
    "    # Check for each infrastructure\n",
    "    for infras in needed_infrastructure:\n",
    "        try:\n",
    "            if infras in infrastructure_keywords:\n",
    "                places = gmaps.places_nearby(\n",
    "                    location=(latitude, longitude), \n",
    "                    radius=5000, \n",
    "                    keyword=infrastructure_keywords[infras]\n",
    "                )\n",
    "            else:\n",
    "                places = gmaps.places_nearby(\n",
    "                    location=(latitude, longitude), \n",
    "                    radius=5000, \n",
    "                    type=infras\n",
    "                )\n",
    "            \n",
    "            # Update results with 1 if results are found, otherwise 0\n",
    "            infras_results[infras] = 1 if places['results'] else 0\n",
    "        \n",
    "        except Exception as e:\n",
    "            # Log the exception and mark as not found\n",
    "            print(f\"Error checking {infras}: {e}\")\n",
    "            infras_results[infras] = 0\n",
    "    \n",
    "    return infras_results"
   ]
  },
  {
   "cell_type": "markdown",
   "id": "7b15de39-44a9-4642-9ec4-e6761fb9161b",
   "metadata": {},
   "source": [
    "# PREDICTING NEEDED INFRASTRUCTURE FOR THE VILLAGE"
   ]
  },
  {
   "cell_type": "code",
   "execution_count": 7,
   "id": "ab0c0214-c9ea-43df-a16e-3d99056d8b54",
   "metadata": {},
   "outputs": [
    {
     "name": "stdout",
     "output_type": "stream",
     "text": [
      "Needed infrastructure: Hospital, Post_office, Library, Bus_stop\n"
     ]
    },
    {
     "name": "stderr",
     "output_type": "stream",
     "text": [
      "C:\\Users\\Saikiran Rai\\AppData\\Local\\Programs\\Python\\Python310\\lib\\site-packages\\sklearn\\base.py:464: UserWarning: X does not have valid feature names, but RandomForestRegressor was fitted with feature names\n",
      "  warnings.warn(\n"
     ]
    }
   ],
   "source": [
    "village= input(\"Enter your village name: \")\n",
    "state= input(\"Enter your state name: \")\n",
    "village_coordinates= get_village_coordinates(village, state)\n",
    "api_key= \"google-maps-api-key\"\n",
    "infrastructure_found_in_village= get_village_infrastructure_details(village_coordinates, api_key)\n",
    "\n",
    "# list of infrastructure details with binary representation\n",
    "features= list(infrastructure_found_in_village.values())\n",
    "\n",
    "# Load the trained model\n",
    "with open('rftrained_model.pkl', 'rb') as f:\n",
    "  trained_model = pickle.load(f)\n",
    "\n",
    "all_infrastructure = ['library', 'primary_school', 'secondary_school', 'college', 'atm', 'supermarket', \n",
    "                    'panchayat_office', 'post_office', 'hospital', 'bus_stop', 'common_service_center'] \n",
    "\n",
    "# Predict the development level\n",
    "predicted_development = trained_model.predict([features])[0]\n",
    "\n",
    "if predicted_development == 1:  # Fully developed\n",
    "    print(\"No need of any infrastructure\")\n",
    "else:\n",
    "    needed_infrastructure = []\n",
    "    for i, infra in enumerate(all_infrastructure):\n",
    "        if features[i] == 0:\n",
    "            needed_infrastructure.append(infra)\n",
    "    print(f\"Needed infrastructure: {', '.join(needed_infrastructure)}\")"
   ]
  },
  {
   "cell_type": "code",
   "execution_count": null,
   "id": "d68b2ce6-0155-4537-ab1c-adc7f1c13aea",
   "metadata": {},
   "outputs": [],
   "source": []
  }
 ],
 "metadata": {
  "kernelspec": {
   "display_name": "Python 3 (ipykernel)",
   "language": "python",
   "name": "python3"
  },
  "language_info": {
   "codemirror_mode": {
    "name": "ipython",
    "version": 3
   },
   "file_extension": ".py",
   "mimetype": "text/x-python",
   "name": "python",
   "nbconvert_exporter": "python",
   "pygments_lexer": "ipython3",
   "version": "3.10.7"
  }
 },
 "nbformat": 4,
 "nbformat_minor": 5
}
